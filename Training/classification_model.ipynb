{
 "cells": [
  {
   "cell_type": "code",
   "execution_count": 10,
   "metadata": {
    "collapsed": true
   },
   "outputs": [],
   "source": [
    "import tensorflow as tf"
   ]
  },
  {
   "cell_type": "code",
   "execution_count": 11,
   "metadata": {},
   "outputs": [
    {
     "name": "stdout",
     "output_type": "stream",
     "text": [
      "Found 5830 images belonging to 5 classes.\n",
      "Found 541 images belonging to 5 classes.\n"
     ]
    }
   ],
   "source": [
    "import keras\n",
    "from keras.preprocessing.image import ImageDataGenerator\n",
    "from keras.models import Sequential\n",
    "from keras.layers import Dense, Dropout, Activation, Flatten\n",
    "from keras.layers import Conv2D, MaxPooling2D\n",
    "import os\n",
    "\n",
    "num_classes = 5 #nombres de panneaux a détecter et reconnaitre \n",
    "img_rows, img_cols = 40, 40 \n",
    "batch_size = 16\n",
    "\n",
    "train_data_dir = './dataset/train'\n",
    "validation_data_dir = './dataset/validation'\n",
    "\n",
    "# augmentaiton de dataset = taining + validation\n",
    "train_datagen = ImageDataGenerator(\n",
    "      rescale=1./255,\n",
    "      width_shift_range=0.3,\n",
    "      height_shift_range=0.3,\n",
    "      fill_mode='nearest')\n",
    " \n",
    "validation_datagen = ImageDataGenerator(rescale=1./255)\n",
    " \n",
    "train_generator = train_datagen.flow_from_directory(\n",
    "        train_data_dir,\n",
    "        target_size=(img_rows, img_cols),\n",
    "        color_mode=\"grayscale\",\n",
    "        batch_size=batch_size,\n",
    "        class_mode='categorical',\n",
    "        shuffle=True)\n",
    " \n",
    "validation_generator = validation_datagen.flow_from_directory(\n",
    "        validation_data_dir,\n",
    "        target_size=(img_rows, img_cols),\n",
    "        batch_size=batch_size,\n",
    "        color_mode=\"grayscale\",\n",
    "        class_mode='categorical',\n",
    "        shuffle=False)"
   ]
  },
  {
   "cell_type": "markdown",
   "metadata": {},
   "source": [
    "# definition du  model \n"
   ]
  },
  {
   "cell_type": "code",
   "execution_count": 12,
   "metadata": {},
   "outputs": [
    {
     "name": "stdout",
     "output_type": "stream",
     "text": [
      "Model: \"sequential_5\"\n",
      "_________________________________________________________________\n",
      "Layer (type)                 Output Shape              Param #   \n",
      "=================================================================\n",
      "conv2d_17 (Conv2D)           (None, 40, 40, 32)        320       \n",
      "_________________________________________________________________\n",
      "activation_25 (Activation)   (None, 40, 40, 32)        0         \n",
      "_________________________________________________________________\n",
      "conv2d_18 (Conv2D)           (None, 38, 38, 32)        9248      \n",
      "_________________________________________________________________\n",
      "activation_26 (Activation)   (None, 38, 38, 32)        0         \n",
      "_________________________________________________________________\n",
      "max_pooling2d_9 (MaxPooling2 (None, 19, 19, 32)        0         \n",
      "_________________________________________________________________\n",
      "dropout_13 (Dropout)         (None, 19, 19, 32)        0         \n",
      "_________________________________________________________________\n",
      "conv2d_19 (Conv2D)           (None, 19, 19, 64)        18496     \n",
      "_________________________________________________________________\n",
      "activation_27 (Activation)   (None, 19, 19, 64)        0         \n",
      "_________________________________________________________________\n",
      "conv2d_20 (Conv2D)           (None, 17, 17, 64)        36928     \n",
      "_________________________________________________________________\n",
      "activation_28 (Activation)   (None, 17, 17, 64)        0         \n",
      "_________________________________________________________________\n",
      "max_pooling2d_10 (MaxPooling (None, 8, 8, 64)          0         \n",
      "_________________________________________________________________\n",
      "dropout_14 (Dropout)         (None, 8, 8, 64)          0         \n",
      "_________________________________________________________________\n",
      "flatten_5 (Flatten)          (None, 4096)              0         \n",
      "_________________________________________________________________\n",
      "dense_9 (Dense)              (None, 512)               2097664   \n",
      "_________________________________________________________________\n",
      "activation_29 (Activation)   (None, 512)               0         \n",
      "_________________________________________________________________\n",
      "dropout_15 (Dropout)         (None, 512)               0         \n",
      "_________________________________________________________________\n",
      "dense_10 (Dense)             (None, 5)                 2565      \n",
      "_________________________________________________________________\n",
      "activation_30 (Activation)   (None, 5)                 0         \n",
      "=================================================================\n",
      "Total params: 2,165,221\n",
      "Trainable params: 2,165,221\n",
      "Non-trainable params: 0\n",
      "_________________________________________________________________\n",
      "None\n"
     ]
    }
   ],
   "source": [
    "model = Sequential()\n",
    "\n",
    "#  Padding = 'same' aboutit à un bourrage de l'entrée de sorte que \n",
    "#  la sortie ait la même longueur que l'entrée d'origine\n",
    "\n",
    "model.add(Conv2D(32, (3, 3), padding='same',\n",
    "                 input_shape= (img_rows, img_cols,1))) # le 1 ici parceque les images sont au niveau gris\n",
    "model.add(Activation('relu'))\n",
    "model.add(Conv2D(32, (3, 3)))\n",
    "model.add(Activation('relu'))\n",
    "model.add(MaxPooling2D(pool_size=(2, 2)))\n",
    "model.add(Dropout(0.25))\n",
    "\n",
    "model.add(Conv2D(64, (3, 3), padding='same'))\n",
    "model.add(Activation('relu'))\n",
    "model.add(Conv2D(64, (3, 3)))\n",
    "model.add(Activation('relu'))\n",
    "model.add(MaxPooling2D(pool_size=(2, 2)))\n",
    "model.add(Dropout(0.25))\n",
    "\n",
    "model.add(Flatten())\n",
    "model.add(Dense(512))\n",
    "model.add(Activation('relu'))\n",
    "model.add(Dropout(0.5))\n",
    "model.add(Dense(num_classes))\n",
    "model.add(Activation('softmax'))\n",
    "\n",
    "print(model.summary())"
   ]
  },
  {
   "cell_type": "markdown",
   "metadata": {},
   "source": [
    "# la phase de training pour le modele "
   ]
  },
  {
   "cell_type": "code",
   "execution_count": 13,
   "metadata": {},
   "outputs": [
    {
     "name": "stdout",
     "output_type": "stream",
     "text": [
      "Epoch 1/20\n",
      "364/364 [==============================] - 16s 45ms/step - loss: 1.3903 - acc: 0.3965 - val_loss: 1.1171 - val_acc: 0.5682\n",
      "\n",
      "Epoch 00001: val_loss improved from inf to 1.11712, saving model to C:/Users/mizou/OneDrive/Bureau/projet 1/model trained/model3.h5\n",
      "Epoch 2/20\n",
      "364/364 [==============================] - 10s 28ms/step - loss: 0.7225 - acc: 0.7467 - val_loss: 0.2240 - val_acc: 0.8743\n",
      "\n",
      "Epoch 00002: val_loss improved from 1.11712 to 0.22400, saving model to C:/Users/mizou/OneDrive/Bureau/projet 1/model trained/model3.h5\n",
      "Epoch 3/20\n",
      "364/364 [==============================] - 10s 27ms/step - loss: 0.3241 - acc: 0.8962 - val_loss: 0.0379 - val_acc: 0.9905\n",
      "\n",
      "Epoch 00003: val_loss improved from 0.22400 to 0.03793, saving model to C:/Users/mizou/OneDrive/Bureau/projet 1/model trained/model3.h5\n",
      "Epoch 4/20\n",
      "364/364 [==============================] - 10s 28ms/step - loss: 0.1933 - acc: 0.9409 - val_loss: 0.0545 - val_acc: 0.9886\n",
      "\n",
      "Epoch 00004: val_loss did not improve from 0.03793\n",
      "Epoch 5/20\n",
      "364/364 [==============================] - 10s 28ms/step - loss: 0.1381 - acc: 0.9598 - val_loss: 0.0480 - val_acc: 0.9943\n",
      "\n",
      "Epoch 00005: val_loss did not improve from 0.03793\n",
      "Epoch 6/20\n",
      "364/364 [==============================] - 10s 27ms/step - loss: 0.1176 - acc: 0.9703 - val_loss: 0.0540 - val_acc: 0.9943\n",
      "Restoring model weights from the end of the best epoch\n",
      "\n",
      "Epoch 00006: val_loss did not improve from 0.03793\n",
      "\n",
      "Epoch 00006: ReduceLROnPlateau reducing learning rate to 0.00020000000949949026.\n",
      "Epoch 00006: early stopping\n"
     ]
    }
   ],
   "source": [
    "from keras.optimizers import RMSprop, SGD\n",
    "from keras.callbacks import ModelCheckpoint, EarlyStopping, ReduceLROnPlateau\n",
    "\n",
    "# checkpoints garantissent en principe que j'ai reçu le meilleur modèle après chaque époque   \n",
    "\n",
    "# Si nous entraînons pour 20 epoques et que le meilleur modèle est à l'epoque 16,\n",
    "# alors ce sera celui que nous sauvgadons dans ce cas\n",
    "\n",
    "\n",
    "checkpoint = ModelCheckpoint(\"C:/Users/mizou/OneDrive/Bureau/projet 1/model trained/model3.h5\",\n",
    "                             monitor=\"val_loss\",\n",
    "                             mode=\"min\",\n",
    "                             save_best_only = True,\n",
    "                             verbose=1) \n",
    "\n",
    "earlystop = EarlyStopping(monitor = 'val_loss', \n",
    "                          min_delta = 0, \n",
    "                          patience = 3,\n",
    "                          verbose = 1,\n",
    "                          restore_best_weights = True)\n",
    "\n",
    "# si le modéle reste 3 epoques consécutives sans aucune amélioration alors le training s'arretera\n",
    "\n",
    "reduce_lr = ReduceLROnPlateau(monitor = 'val_loss',\n",
    "                              factor = 0.2,\n",
    "                              patience = 3,\n",
    "                              verbose = 1,\n",
    "                              min_delta = 0.0001)\n",
    "\n",
    "# nous mettons nos rappels dans une liste de rappel \"callbacks\"\n",
    "callbacks = [earlystop, checkpoint, reduce_lr]\n",
    "\n",
    "#Nous utilisons un très petit taux d'apprentissage \n",
    "model.compile(loss = 'categorical_crossentropy',\n",
    "              optimizer = RMSprop(lr = 0.001),\n",
    "              metrics = ['accuracy'])\n",
    "\n",
    "nb_train_samples = 5830\n",
    "nb_validation_samples = 541\n",
    "epochs = 20\n",
    "\n",
    "history = model.fit_generator(\n",
    "    train_generator,\n",
    "    steps_per_epoch = nb_train_samples // batch_size,\n",
    "    epochs = epochs,\n",
    "    callbacks = callbacks,\n",
    "    validation_data = validation_generator,\n",
    "    validation_steps = nb_validation_samples // batch_size)"
   ]
  },
  {
   "cell_type": "markdown",
   "metadata": {},
   "source": [
    "# chargement du modèle"
   ]
  },
  {
   "cell_type": "code",
   "execution_count": 5,
   "metadata": {
    "collapsed": true
   },
   "outputs": [],
   "source": [
    "from keras.models import load_model\n",
    "model = load_model('C:/Users/mizou/OneDrive/Bureau/projet 1/model trained/model2.h5')"
   ]
  },
  {
   "cell_type": "markdown",
   "metadata": {},
   "source": [
    "# Confusion Matrix (matrice de confusion)"
   ]
  },
  {
   "cell_type": "code",
   "execution_count": 14,
   "metadata": {
    "collapsed": true
   },
   "outputs": [],
   "source": [
    "class_labels = validation_generator.class_indices\n",
    "class_labels = {v:k for k,v in class_labels.items()}\n",
    "classes = list(class_labels.values()) # les noms des classe \n"
   ]
  },
  {
   "cell_type": "code",
   "execution_count": null,
   "metadata": {},
   "outputs": [],
   "source": [
    "# il est important de regarder les résultats de prédictions parfois parce que nous \n",
    "#  avons besoin de savoir exactement ce qui est classé , qu'est-ce qui ne va pas et pourquoi "
   ]
  },
  {
   "cell_type": "code",
   "execution_count": 15,
   "metadata": {
    "scrolled": false
   },
   "outputs": [
    {
     "name": "stdout",
     "output_type": "stream",
     "text": [
      "Confusion Matrix\n",
      "[[112   0   0   0   0]\n",
      " [  0 112   0   1   0]\n",
      " [  0   0 102   0   0]\n",
      " [  2   2   0 106   0]\n",
      " [  0   0   2   0 102]]\n",
      "Classification Report\n",
      "              precision    recall  f1-score   support\n",
      "\n",
      "           0       0.98      1.00      0.99       112\n",
      "           1       0.98      0.99      0.99       113\n",
      "           2       0.98      1.00      0.99       102\n",
      "           3       0.99      0.96      0.98       110\n",
      "           4       1.00      0.98      0.99       104\n",
      "\n",
      "    accuracy                           0.99       541\n",
      "   macro avg       0.99      0.99      0.99       541\n",
      "weighted avg       0.99      0.99      0.99       541\n",
      "\n"
     ]
    }
   ],
   "source": [
    "import numpy as np\n",
    "from sklearn.metrics import classification_report, confusion_matrix\n",
    "\n",
    "#Matrice de confution et rapport de classification\n",
    "Y_pred = model.predict_generator(validation_generator, nb_validation_samples // batch_size+1)\n",
    "y_pred = np.argmax(Y_pred, axis=1)\n",
    "print('Confusion Matrix')\n",
    "print(confusion_matrix(validation_generator.classes, y_pred))\n",
    "print('Classification Report')\n",
    "target_names = list(class_labels.values())\n",
    "print(classification_report(validation_generator.classes, y_pred, target_names=target_names))"
   ]
  },
  {
   "cell_type": "markdown",
   "metadata": {},
   "source": [
    "# visualisation de la matrice de confusion "
   ]
  },
  {
   "cell_type": "code",
   "execution_count": 16,
   "metadata": {},
   "outputs": [
    {
     "data": {
      "image/png": "[encoded data removed]",
      "text/plain": [
       "<Figure size 1440x1440 with 2 Axes>"
      ]
     },
     "metadata": {
      "needs_background": "light"
     },
     "output_type": "display_data"
    }
   ],
   "source": [
    "import matplotlib.pyplot as plt\n",
    "%matplotlib inline\n",
    "from keras.models import load_model\n",
    "\n",
    "# Matrice de confution et rapport de classification\n",
    "Y_pred = model.predict_generator(validation_generator, nb_validation_samples // batch_size+1)\n",
    "y_pred = np.argmax(Y_pred, axis=1)\n",
    "\n",
    "target_names = list(class_labels.values())\n",
    "\n",
    "plt.figure(figsize=(20,20))\n",
    "cnf_matrix = confusion_matrix(validation_generator.classes, y_pred)\n",
    "\n",
    "plt.imshow(cnf_matrix, interpolation='nearest')\n",
    "plt.colorbar()\n",
    "tick_marks = np.arange(len(classes))\n",
    "_ = plt.xticks(tick_marks, classes, rotation=90)\n",
    "_ = plt.yticks(tick_marks, classes)"
   ]
  }
 ],
 "metadata": {
  "kernelspec": {
   "display_name": "tensorflow",
   "language": "python",
   "name": "tensorflow"
  },
  "language_info": {
   "codemirror_mode": {
    "name": "ipython",
    "version": 3
   },
   "file_extension": ".py",
   "mimetype": "text/x-python",
   "name": "python",
   "nbconvert_exporter": "python",
   "pygments_lexer": "ipython3",
   "version": "3.7.3"
  }
 },
 "nbformat": 4,
 "nbformat_minor": 2
}
