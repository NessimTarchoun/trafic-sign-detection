{
 "cells": [
  {
   "cell_type": "code",
   "execution_count": 1,
   "metadata": {},
   "outputs": [
    {
     "name": "stderr",
     "output_type": "stream",
     "text": [
      "c:\\users\\mizou\\.venv\\lib\\site-packages\\tensorflow\\python\\framework\\dtypes.py:516: FutureWarning: Passing (type, 1) or '1type' as a synonym of type is deprecated; in a future version of numpy, it will be understood as (type, (1,)) / '(1,)type'.\n",
      "  _np_qint8 = np.dtype([(\"qint8\", np.int8, 1)])\n",
      "c:\\users\\mizou\\.venv\\lib\\site-packages\\tensorflow\\python\\framework\\dtypes.py:517: FutureWarning: Passing (type, 1) or '1type' as a synonym of type is deprecated; in a future version of numpy, it will be understood as (type, (1,)) / '(1,)type'.\n",
      "  _np_quint8 = np.dtype([(\"quint8\", np.uint8, 1)])\n",
      "c:\\users\\mizou\\.venv\\lib\\site-packages\\tensorflow\\python\\framework\\dtypes.py:518: FutureWarning: Passing (type, 1) or '1type' as a synonym of type is deprecated; in a future version of numpy, it will be understood as (type, (1,)) / '(1,)type'.\n",
      "  _np_qint16 = np.dtype([(\"qint16\", np.int16, 1)])\n",
      "c:\\users\\mizou\\.venv\\lib\\site-packages\\tensorflow\\python\\framework\\dtypes.py:519: FutureWarning: Passing (type, 1) or '1type' as a synonym of type is deprecated; in a future version of numpy, it will be understood as (type, (1,)) / '(1,)type'.\n",
      "  _np_quint16 = np.dtype([(\"quint16\", np.uint16, 1)])\n",
      "c:\\users\\mizou\\.venv\\lib\\site-packages\\tensorflow\\python\\framework\\dtypes.py:520: FutureWarning: Passing (type, 1) or '1type' as a synonym of type is deprecated; in a future version of numpy, it will be understood as (type, (1,)) / '(1,)type'.\n",
      "  _np_qint32 = np.dtype([(\"qint32\", np.int32, 1)])\n",
      "c:\\users\\mizou\\.venv\\lib\\site-packages\\tensorflow\\python\\framework\\dtypes.py:525: FutureWarning: Passing (type, 1) or '1type' as a synonym of type is deprecated; in a future version of numpy, it will be understood as (type, (1,)) / '(1,)type'.\n",
      "  np_resource = np.dtype([(\"resource\", np.ubyte, 1)])\n",
      "c:\\users\\mizou\\.venv\\lib\\site-packages\\tensorboard\\compat\\tensorflow_stub\\dtypes.py:541: FutureWarning: Passing (type, 1) or '1type' as a synonym of type is deprecated; in a future version of numpy, it will be understood as (type, (1,)) / '(1,)type'.\n",
      "  _np_qint8 = np.dtype([(\"qint8\", np.int8, 1)])\n",
      "c:\\users\\mizou\\.venv\\lib\\site-packages\\tensorboard\\compat\\tensorflow_stub\\dtypes.py:542: FutureWarning: Passing (type, 1) or '1type' as a synonym of type is deprecated; in a future version of numpy, it will be understood as (type, (1,)) / '(1,)type'.\n",
      "  _np_quint8 = np.dtype([(\"quint8\", np.uint8, 1)])\n",
      "c:\\users\\mizou\\.venv\\lib\\site-packages\\tensorboard\\compat\\tensorflow_stub\\dtypes.py:543: FutureWarning: Passing (type, 1) or '1type' as a synonym of type is deprecated; in a future version of numpy, it will be understood as (type, (1,)) / '(1,)type'.\n",
      "  _np_qint16 = np.dtype([(\"qint16\", np.int16, 1)])\n",
      "c:\\users\\mizou\\.venv\\lib\\site-packages\\tensorboard\\compat\\tensorflow_stub\\dtypes.py:544: FutureWarning: Passing (type, 1) or '1type' as a synonym of type is deprecated; in a future version of numpy, it will be understood as (type, (1,)) / '(1,)type'.\n",
      "  _np_quint16 = np.dtype([(\"quint16\", np.uint16, 1)])\n",
      "c:\\users\\mizou\\.venv\\lib\\site-packages\\tensorboard\\compat\\tensorflow_stub\\dtypes.py:545: FutureWarning: Passing (type, 1) or '1type' as a synonym of type is deprecated; in a future version of numpy, it will be understood as (type, (1,)) / '(1,)type'.\n",
      "  _np_qint32 = np.dtype([(\"qint32\", np.int32, 1)])\n",
      "c:\\users\\mizou\\.venv\\lib\\site-packages\\tensorboard\\compat\\tensorflow_stub\\dtypes.py:550: FutureWarning: Passing (type, 1) or '1type' as a synonym of type is deprecated; in a future version of numpy, it will be understood as (type, (1,)) / '(1,)type'.\n",
      "  np_resource = np.dtype([(\"resource\", np.ubyte, 1)])\n"
     ]
    },
    {
     "name": "stdout",
     "output_type": "stream",
     "text": [
      "WARNING:tensorflow:From c:\\users\\mizou\\.venv\\lib\\site-packages\\tensorflow\\python\\ops\\nn_impl.py:180: add_dispatch_support.<locals>.wrapper (from tensorflow.python.ops.array_ops) is deprecated and will be removed in a future version.\n",
      "Instructions for updating:\n",
      "Use tf.where in 2.0, which has the same broadcast rule as np.where\n"
     ]
    }
   ],
   "source": [
    "# importation des modèles\n",
    "from tensorflow.keras.models import load_model\n",
    "model1 = load_model(\"./models/detection_model.h5\")\n",
    "model2 = load_model(\"./models/classification_model.h5\")"
   ]
  },
  {
   "cell_type": "code",
   "execution_count": 2,
   "metadata": {},
   "outputs": [],
   "source": [
    "# création de la liste des panneaux qui nous servent dans l'affichage de résultat de classification\n",
    "signs = [\"interdit de depasser\",\"vitesse max 70\",\"obligation de tourner a gauche\",\"danger\",\"stop\"]"
   ]
  },
  {
   "cell_type": "code",
   "execution_count": 3,
   "metadata": {},
   "outputs": [],
   "source": [
    "def decision1(model,objct): # prediction modèle ou non\n",
    "    prediction = model.predict(objct)\n",
    "    l = prediction.tolist()\n",
    "    return(l[0][0])"
   ]
  },
  {
   "cell_type": "code",
   "execution_count": 4,
   "metadata": {},
   "outputs": [],
   "source": [
    "def decision2(img,model,objct):  # prediction de la classe\n",
    "    prediction = model.predict(objct)\n",
    "    l = prediction.tolist()\n",
    "    X = l[0].index(max(l[0]))  # l'indice du panneau qui a la plus grande probabilité\n",
    "    img = cv2.putText(img,signs[X],(int(x),int(y)),cv2.FONT_HERSHEY_SIMPLEX,1,(255,255,0),2,cv2.LINE_AA) #Affichage"
   ]
  },
  {
   "cell_type": "code",
   "execution_count": 8,
   "metadata": {},
   "outputs": [],
   "source": [
    "def decision_final(img,objct):\n",
    "    objct = cv2.resize(objct, dsize=(40,40), interpolation=cv2.INTER_CUBIC)\n",
    "    objct = cv2.cvtColor(objct, cv2.COLOR_BGR2GRAY)\n",
    "    objct = objct / 255\n",
    "    objct = np.reshape(objct,(1,40,40,1))\n",
    "    if decision1(model1,objct)>0.3:\n",
    "        cv2.rectangle(img, (y1, x1), (y2, x2), (255, 0, 0), 2) # Cadre autour du panneau\n",
    "        decision2(img,model2,objct)"
   ]
  },
  {
   "cell_type": "code",
   "execution_count": null,
   "metadata": {
    "scrolled": true
   },
   "outputs": [],
   "source": [
    "import cv2 \n",
    "import numpy as np\n",
    "cap = cv2.VideoCapture(0)\n",
    "while(1):\n",
    "    _, frame = cap.read()   # capture d'un frame\n",
    "    \n",
    "    Height, Width = frame.shape[:2]    # caractéristiques de la fenêtre\n",
    "    \n",
    "    hsv = cv2.cvtColor(frame, cv2.COLOR_BGR2HSV)    #Conversion en HSV de la capture\n",
    "    lower_red1 = np.array([0,100,100])             # la couleur rouge en hsv (première partie)\n",
    "    upper_red1 = np.array([10,255,255])\n",
    "    mask1 = cv2.inRange(hsv, lower_red1, upper_red1)\n",
    "    lower_red2 = np.array([160,100,100])            # la couleur rouge en hsv (deuxième partie)\n",
    "    upper_red2 = np.array([179,255,255])\n",
    "    mask2 = cv2.inRange(hsv, lower_red2, upper_red2)  \n",
    "    lower_blue = np.array([100,150,0])               ## la couleur blue en hsv\n",
    "    upper_blue = np.array([140,255,255])\n",
    "    mask3 = cv2.inRange(hsv, lower_blue, upper_blue)\n",
    "    mask = mask1 + mask2 + mask3      # construction de masque final\n",
    "    \n",
    "    contours, _ = cv2.findContours(mask.copy(),cv2.RETR_EXTERNAL, cv2.CHAIN_APPROX_SIMPLE) # trouver les contours d'un objet détecté\n",
    "    \n",
    "    if len(contours) > 0:\n",
    "    # Obtenir le plus grand contour circulaire de l'objet \n",
    "        c = max(contours, key=cv2.contourArea)\n",
    "        (x, y), radius = cv2.minEnclosingCircle(c)  \n",
    "        M = cv2.moments(c)   \n",
    "        try:\n",
    "            center = (int(M[\"m10\"] / M[\"m00\"]), int(M[\"m01\"] / M[\"m00\"]))  #Centre de masse : moments centrées \n",
    "\n",
    "        \n",
    "        except:\n",
    "            center =   int(Height/2), int(Width/2)\n",
    "        \n",
    "        try:\n",
    "            if int(radius) > 50:\n",
    "                x1,y1 = center[1]-int(radius)-10,center[0]-int(radius)-10\n",
    "                d = int(radius)*2\n",
    "                x2 , y2 = x1 + d + 20 , y1 + d +20\n",
    "                objct = frame[x1:x2,y1:y2,:]\n",
    "                decision_final(frame,objct)\n",
    "        except:\n",
    "            continue\n",
    "    \n",
    "    text = \"Cliquer sur 'ECHAP' pour quitter ... \"\n",
    "    img1 = cv2.putText(frame,text,(5,50),cv2.FONT_HERSHEY_SIMPLEX,1,(255,0,0),1,cv2.LINE_AA)\n",
    "        \n",
    "        \n",
    "    cv2.imshow('frame',frame)\n",
    "    \n",
    "    if cv2.waitKey(1) == 27 :  # echap pour quitter\n",
    "        break\n",
    "cap.release()\n",
    "cv2.destroyAllWindows()\n"
   ]
  },
  {
   "cell_type": "code",
   "execution_count": null,
   "metadata": {},
   "outputs": [],
   "source": []
  }
 ],
 "metadata": {
  "kernelspec": {
   "display_name": "tensorflow",
   "language": "python",
   "name": "tensorflow"
  },
  "language_info": {
   "codemirror_mode": {
    "name": "ipython",
    "version": 3
   },
   "file_extension": ".py",
   "mimetype": "text/x-python",
   "name": "python",
   "nbconvert_exporter": "python",
   "pygments_lexer": "ipython3",
   "version": "3.7.3"
  }
 },
 "nbformat": 4,
 "nbformat_minor": 2
}
